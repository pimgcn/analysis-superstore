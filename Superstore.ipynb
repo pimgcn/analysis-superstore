{
 "cells": [
  {
   "cell_type": "markdown",
   "metadata": {
    "azdata_cell_guid": "2412de36-9a30-4f3f-9b6e-41c011fe7570"
   },
   "source": [
    "Questions to answer: \n",
    "3. There is a relationship between priority and profit ?!\n",
    "\n",
    "8. What is the number of orders depends on it's priority and it's profit ?!"
   ]
  },
  {
   "cell_type": "code",
   "execution_count": 24,
   "metadata": {
    "azdata_cell_guid": "d3b487b0-d00d-4576-bc57-ced7f3b6ed09",
    "language": "python"
   },
   "outputs": [],
   "source": [
    "# Import libraries\n",
    "import pandas as pd\n",
    "import numpy as np\n",
    "import matplotlib.pyplot as plt\n",
    "import seaborn as sns"
   ]
  },
  {
   "cell_type": "code",
   "execution_count": 2,
   "metadata": {
    "azdata_cell_guid": "045b7e9a-f5e4-4e71-833d-965f7c4345da",
    "language": "python"
   },
   "outputs": [],
   "source": [
    "# Install and import geopandas library (I'd like to create some map plots) + Download U.S. State shapefile \n",
    "# From https://www.census.gov/geographies/mapping-files/time-series/geo/carto-boundary-file.html\n",
    "\n",
    "\n",
    "# pip install geopandas\n",
    "import geopandas as gpd"
   ]
  },
  {
   "cell_type": "markdown",
   "metadata": {
    "azdata_cell_guid": "d0bbd88f-d109-4972-afaa-46f79503a748"
   },
   "source": [
    "## Preparing Superstore dataset"
   ]
  },
  {
   "cell_type": "code",
   "execution_count": 3,
   "metadata": {
    "azdata_cell_guid": "7b2e45ab-dbfa-434e-ada8-4882a86dd907",
    "language": "python"
   },
   "outputs": [
    {
     "data": {
      "text/html": [
       "<div>\n",
       "<style scoped>\n",
       "    .dataframe tbody tr th:only-of-type {\n",
       "        vertical-align: middle;\n",
       "    }\n",
       "\n",
       "    .dataframe tbody tr th {\n",
       "        vertical-align: top;\n",
       "    }\n",
       "\n",
       "    .dataframe thead th {\n",
       "        text-align: right;\n",
       "    }\n",
       "</style>\n",
       "<table border=\"1\" class=\"dataframe\">\n",
       "  <thead>\n",
       "    <tr style=\"text-align: right;\">\n",
       "      <th></th>\n",
       "      <th>Row ID</th>\n",
       "      <th>Order Priority</th>\n",
       "      <th>Discount</th>\n",
       "      <th>Unit Price</th>\n",
       "      <th>Shipping Cost</th>\n",
       "      <th>Customer ID</th>\n",
       "      <th>Customer Name</th>\n",
       "      <th>Ship Mode</th>\n",
       "      <th>Customer Segment</th>\n",
       "      <th>Product Category</th>\n",
       "      <th>...</th>\n",
       "      <th>Region</th>\n",
       "      <th>State or Province</th>\n",
       "      <th>City</th>\n",
       "      <th>Postal Code</th>\n",
       "      <th>Order Date</th>\n",
       "      <th>Ship Date</th>\n",
       "      <th>Profit</th>\n",
       "      <th>Quantity ordered new</th>\n",
       "      <th>Sales</th>\n",
       "      <th>Order ID</th>\n",
       "    </tr>\n",
       "  </thead>\n",
       "  <tbody>\n",
       "    <tr>\n",
       "      <th>0</th>\n",
       "      <td>20847</td>\n",
       "      <td>High</td>\n",
       "      <td>0.01</td>\n",
       "      <td>2.84</td>\n",
       "      <td>0.93</td>\n",
       "      <td>3</td>\n",
       "      <td>Bonnie Potter</td>\n",
       "      <td>Express Air</td>\n",
       "      <td>Corporate</td>\n",
       "      <td>Office Supplies</td>\n",
       "      <td>...</td>\n",
       "      <td>West</td>\n",
       "      <td>Washington</td>\n",
       "      <td>Anacortes</td>\n",
       "      <td>98221</td>\n",
       "      <td>07/01/2015</td>\n",
       "      <td>08/01/2015</td>\n",
       "      <td>4.5600</td>\n",
       "      <td>4</td>\n",
       "      <td>13.01</td>\n",
       "      <td>88522</td>\n",
       "    </tr>\n",
       "    <tr>\n",
       "      <th>1</th>\n",
       "      <td>20228</td>\n",
       "      <td>Not Specified</td>\n",
       "      <td>0.02</td>\n",
       "      <td>500.98</td>\n",
       "      <td>26.00</td>\n",
       "      <td>5</td>\n",
       "      <td>Ronnie Proctor</td>\n",
       "      <td>Delivery Truck</td>\n",
       "      <td>Home Office</td>\n",
       "      <td>Furniture</td>\n",
       "      <td>...</td>\n",
       "      <td>West</td>\n",
       "      <td>California</td>\n",
       "      <td>San Gabriel</td>\n",
       "      <td>91776</td>\n",
       "      <td>13/06/2015</td>\n",
       "      <td>15/06/2015</td>\n",
       "      <td>4390.3665</td>\n",
       "      <td>12</td>\n",
       "      <td>6362.85</td>\n",
       "      <td>90193</td>\n",
       "    </tr>\n",
       "    <tr>\n",
       "      <th>2</th>\n",
       "      <td>21776</td>\n",
       "      <td>Critical</td>\n",
       "      <td>0.06</td>\n",
       "      <td>9.48</td>\n",
       "      <td>7.29</td>\n",
       "      <td>11</td>\n",
       "      <td>Marcus Dunlap</td>\n",
       "      <td>Regular Air</td>\n",
       "      <td>Home Office</td>\n",
       "      <td>Furniture</td>\n",
       "      <td>...</td>\n",
       "      <td>East</td>\n",
       "      <td>New Jersey</td>\n",
       "      <td>Roselle</td>\n",
       "      <td>7203</td>\n",
       "      <td>15/02/2015</td>\n",
       "      <td>17/02/2015</td>\n",
       "      <td>-53.8096</td>\n",
       "      <td>22</td>\n",
       "      <td>211.15</td>\n",
       "      <td>90192</td>\n",
       "    </tr>\n",
       "    <tr>\n",
       "      <th>3</th>\n",
       "      <td>24844</td>\n",
       "      <td>Medium</td>\n",
       "      <td>0.09</td>\n",
       "      <td>78.69</td>\n",
       "      <td>19.99</td>\n",
       "      <td>14</td>\n",
       "      <td>Gwendolyn F Tyson</td>\n",
       "      <td>Regular Air</td>\n",
       "      <td>Small Business</td>\n",
       "      <td>Furniture</td>\n",
       "      <td>...</td>\n",
       "      <td>Central</td>\n",
       "      <td>Minnesota</td>\n",
       "      <td>Prior Lake</td>\n",
       "      <td>55372</td>\n",
       "      <td>12/05/2015</td>\n",
       "      <td>14/05/2015</td>\n",
       "      <td>803.4705</td>\n",
       "      <td>16</td>\n",
       "      <td>1164.45</td>\n",
       "      <td>86838</td>\n",
       "    </tr>\n",
       "    <tr>\n",
       "      <th>4</th>\n",
       "      <td>24846</td>\n",
       "      <td>Medium</td>\n",
       "      <td>0.08</td>\n",
       "      <td>3.28</td>\n",
       "      <td>2.31</td>\n",
       "      <td>14</td>\n",
       "      <td>Gwendolyn F Tyson</td>\n",
       "      <td>Regular Air</td>\n",
       "      <td>Small Business</td>\n",
       "      <td>Office Supplies</td>\n",
       "      <td>...</td>\n",
       "      <td>Central</td>\n",
       "      <td>Minnesota</td>\n",
       "      <td>Prior Lake</td>\n",
       "      <td>55372</td>\n",
       "      <td>12/05/2015</td>\n",
       "      <td>13/05/2015</td>\n",
       "      <td>-24.0300</td>\n",
       "      <td>7</td>\n",
       "      <td>22.23</td>\n",
       "      <td>86838</td>\n",
       "    </tr>\n",
       "  </tbody>\n",
       "</table>\n",
       "<p>5 rows × 25 columns</p>\n",
       "</div>"
      ],
      "text/plain": [
       "   Row ID Order Priority  Discount  Unit Price  Shipping Cost  Customer ID  \\\n",
       "0   20847           High      0.01        2.84           0.93            3   \n",
       "1   20228  Not Specified      0.02      500.98          26.00            5   \n",
       "2   21776       Critical      0.06        9.48           7.29           11   \n",
       "3   24844         Medium      0.09       78.69          19.99           14   \n",
       "4   24846         Medium      0.08        3.28           2.31           14   \n",
       "\n",
       "       Customer Name       Ship Mode Customer Segment Product Category  ...  \\\n",
       "0      Bonnie Potter     Express Air        Corporate  Office Supplies  ...   \n",
       "1     Ronnie Proctor  Delivery Truck      Home Office        Furniture  ...   \n",
       "2      Marcus Dunlap     Regular Air      Home Office        Furniture  ...   \n",
       "3  Gwendolyn F Tyson     Regular Air   Small Business        Furniture  ...   \n",
       "4  Gwendolyn F Tyson     Regular Air   Small Business  Office Supplies  ...   \n",
       "\n",
       "    Region State or Province         City  Postal Code  Order Date  \\\n",
       "0     West        Washington    Anacortes        98221  07/01/2015   \n",
       "1     West        California  San Gabriel        91776  13/06/2015   \n",
       "2     East        New Jersey      Roselle         7203  15/02/2015   \n",
       "3  Central         Minnesota   Prior Lake        55372  12/05/2015   \n",
       "4  Central         Minnesota   Prior Lake        55372  12/05/2015   \n",
       "\n",
       "    Ship Date     Profit Quantity ordered new    Sales Order ID  \n",
       "0  08/01/2015     4.5600                    4    13.01    88522  \n",
       "1  15/06/2015  4390.3665                   12  6362.85    90193  \n",
       "2  17/02/2015   -53.8096                   22   211.15    90192  \n",
       "3  14/05/2015   803.4705                   16  1164.45    86838  \n",
       "4  13/05/2015   -24.0300                    7    22.23    86838  \n",
       "\n",
       "[5 rows x 25 columns]"
      ]
     },
     "execution_count": 3,
     "metadata": {},
     "output_type": "execute_result"
    }
   ],
   "source": [
    "# import data (.csv file)\n",
    "storedf = pd.read_csv(r'/Users/pims/Desktop/projects/superstore/SuperStoreUS.csv')\n",
    "storedf.head()"
   ]
  },
  {
   "cell_type": "code",
   "execution_count": 4,
   "metadata": {
    "azdata_cell_guid": "dc80b1ff-9092-4f64-9a63-af5625bc3269",
    "language": "python"
   },
   "outputs": [
    {
     "name": "stdout",
     "output_type": "stream",
     "text": [
      "<class 'pandas.core.frame.DataFrame'>\n",
      "RangeIndex: 1952 entries, 0 to 1951\n",
      "Data columns (total 25 columns):\n",
      " #   Column                Non-Null Count  Dtype  \n",
      "---  ------                --------------  -----  \n",
      " 0   Row ID                1952 non-null   int64  \n",
      " 1   Order Priority        1952 non-null   object \n",
      " 2   Discount              1952 non-null   float64\n",
      " 3   Unit Price            1952 non-null   float64\n",
      " 4   Shipping Cost         1952 non-null   float64\n",
      " 5   Customer ID           1952 non-null   int64  \n",
      " 6   Customer Name         1952 non-null   object \n",
      " 7   Ship Mode             1952 non-null   object \n",
      " 8   Customer Segment      1952 non-null   object \n",
      " 9   Product Category      1952 non-null   object \n",
      " 10  Product Sub-Category  1952 non-null   object \n",
      " 11  Product Container     1952 non-null   object \n",
      " 12  Product Name          1952 non-null   object \n",
      " 13  Product Base Margin   1936 non-null   float64\n",
      " 14  Country               1952 non-null   object \n",
      " 15  Region                1952 non-null   object \n",
      " 16  State or Province     1952 non-null   object \n",
      " 17  City                  1952 non-null   object \n",
      " 18  Postal Code           1952 non-null   int64  \n",
      " 19  Order Date            1952 non-null   object \n",
      " 20  Ship Date             1952 non-null   object \n",
      " 21  Profit                1952 non-null   float64\n",
      " 22  Quantity ordered new  1952 non-null   int64  \n",
      " 23  Sales                 1952 non-null   float64\n",
      " 24  Order ID              1952 non-null   int64  \n",
      "dtypes: float64(6), int64(5), object(14)\n",
      "memory usage: 381.4+ KB\n"
     ]
    }
   ],
   "source": [
    "# Get to know the data\n",
    "storedf.info()"
   ]
  },
  {
   "cell_type": "markdown",
   "metadata": {},
   "source": [
    "- There is no null value in the dataset\n",
    "- Order date & Ship date are strings"
   ]
  },
  {
   "cell_type": "code",
   "execution_count": 5,
   "metadata": {
    "azdata_cell_guid": "c1018643-e4cd-4018-9992-ca97e2805a0d",
    "language": "python"
   },
   "outputs": [],
   "source": [
    "# Replace space in headers with _\n",
    "newheaders = []\n",
    "for h in storedf.columns:\n",
    "    h = h.replace(' ','_')\n",
    "    newheaders.append(h)"
   ]
  },
  {
   "cell_type": "code",
   "execution_count": 6,
   "metadata": {
    "azdata_cell_guid": "25d30d82-ab4a-44d3-99a3-d209a1babe65",
    "language": "python"
   },
   "outputs": [
    {
     "data": {
      "text/html": [
       "<div>\n",
       "<style scoped>\n",
       "    .dataframe tbody tr th:only-of-type {\n",
       "        vertical-align: middle;\n",
       "    }\n",
       "\n",
       "    .dataframe tbody tr th {\n",
       "        vertical-align: top;\n",
       "    }\n",
       "\n",
       "    .dataframe thead th {\n",
       "        text-align: right;\n",
       "    }\n",
       "</style>\n",
       "<table border=\"1\" class=\"dataframe\">\n",
       "  <thead>\n",
       "    <tr style=\"text-align: right;\">\n",
       "      <th></th>\n",
       "      <th>Row_ID</th>\n",
       "      <th>Order_Priority</th>\n",
       "      <th>Discount</th>\n",
       "      <th>Unit_Price</th>\n",
       "      <th>Shipping_Cost</th>\n",
       "      <th>Customer_ID</th>\n",
       "      <th>Customer_Name</th>\n",
       "      <th>Ship_Mode</th>\n",
       "      <th>Customer_Segment</th>\n",
       "      <th>Product_Category</th>\n",
       "      <th>...</th>\n",
       "      <th>Region</th>\n",
       "      <th>State_or_Province</th>\n",
       "      <th>City</th>\n",
       "      <th>Postal_Code</th>\n",
       "      <th>Order_Date</th>\n",
       "      <th>Ship_Date</th>\n",
       "      <th>Profit</th>\n",
       "      <th>Quantity_ordered_new</th>\n",
       "      <th>Sales</th>\n",
       "      <th>Order_ID</th>\n",
       "    </tr>\n",
       "  </thead>\n",
       "  <tbody>\n",
       "    <tr>\n",
       "      <th>0</th>\n",
       "      <td>20847</td>\n",
       "      <td>High</td>\n",
       "      <td>0.01</td>\n",
       "      <td>2.84</td>\n",
       "      <td>0.93</td>\n",
       "      <td>3</td>\n",
       "      <td>Bonnie Potter</td>\n",
       "      <td>Express Air</td>\n",
       "      <td>Corporate</td>\n",
       "      <td>Office Supplies</td>\n",
       "      <td>...</td>\n",
       "      <td>West</td>\n",
       "      <td>Washington</td>\n",
       "      <td>Anacortes</td>\n",
       "      <td>98221</td>\n",
       "      <td>07/01/2015</td>\n",
       "      <td>08/01/2015</td>\n",
       "      <td>4.5600</td>\n",
       "      <td>4</td>\n",
       "      <td>13.01</td>\n",
       "      <td>88522</td>\n",
       "    </tr>\n",
       "    <tr>\n",
       "      <th>1</th>\n",
       "      <td>20228</td>\n",
       "      <td>Not Specified</td>\n",
       "      <td>0.02</td>\n",
       "      <td>500.98</td>\n",
       "      <td>26.00</td>\n",
       "      <td>5</td>\n",
       "      <td>Ronnie Proctor</td>\n",
       "      <td>Delivery Truck</td>\n",
       "      <td>Home Office</td>\n",
       "      <td>Furniture</td>\n",
       "      <td>...</td>\n",
       "      <td>West</td>\n",
       "      <td>California</td>\n",
       "      <td>San Gabriel</td>\n",
       "      <td>91776</td>\n",
       "      <td>13/06/2015</td>\n",
       "      <td>15/06/2015</td>\n",
       "      <td>4390.3665</td>\n",
       "      <td>12</td>\n",
       "      <td>6362.85</td>\n",
       "      <td>90193</td>\n",
       "    </tr>\n",
       "    <tr>\n",
       "      <th>2</th>\n",
       "      <td>21776</td>\n",
       "      <td>Critical</td>\n",
       "      <td>0.06</td>\n",
       "      <td>9.48</td>\n",
       "      <td>7.29</td>\n",
       "      <td>11</td>\n",
       "      <td>Marcus Dunlap</td>\n",
       "      <td>Regular Air</td>\n",
       "      <td>Home Office</td>\n",
       "      <td>Furniture</td>\n",
       "      <td>...</td>\n",
       "      <td>East</td>\n",
       "      <td>New Jersey</td>\n",
       "      <td>Roselle</td>\n",
       "      <td>7203</td>\n",
       "      <td>15/02/2015</td>\n",
       "      <td>17/02/2015</td>\n",
       "      <td>-53.8096</td>\n",
       "      <td>22</td>\n",
       "      <td>211.15</td>\n",
       "      <td>90192</td>\n",
       "    </tr>\n",
       "    <tr>\n",
       "      <th>3</th>\n",
       "      <td>24844</td>\n",
       "      <td>Medium</td>\n",
       "      <td>0.09</td>\n",
       "      <td>78.69</td>\n",
       "      <td>19.99</td>\n",
       "      <td>14</td>\n",
       "      <td>Gwendolyn F Tyson</td>\n",
       "      <td>Regular Air</td>\n",
       "      <td>Small Business</td>\n",
       "      <td>Furniture</td>\n",
       "      <td>...</td>\n",
       "      <td>Central</td>\n",
       "      <td>Minnesota</td>\n",
       "      <td>Prior Lake</td>\n",
       "      <td>55372</td>\n",
       "      <td>12/05/2015</td>\n",
       "      <td>14/05/2015</td>\n",
       "      <td>803.4705</td>\n",
       "      <td>16</td>\n",
       "      <td>1164.45</td>\n",
       "      <td>86838</td>\n",
       "    </tr>\n",
       "    <tr>\n",
       "      <th>4</th>\n",
       "      <td>24846</td>\n",
       "      <td>Medium</td>\n",
       "      <td>0.08</td>\n",
       "      <td>3.28</td>\n",
       "      <td>2.31</td>\n",
       "      <td>14</td>\n",
       "      <td>Gwendolyn F Tyson</td>\n",
       "      <td>Regular Air</td>\n",
       "      <td>Small Business</td>\n",
       "      <td>Office Supplies</td>\n",
       "      <td>...</td>\n",
       "      <td>Central</td>\n",
       "      <td>Minnesota</td>\n",
       "      <td>Prior Lake</td>\n",
       "      <td>55372</td>\n",
       "      <td>12/05/2015</td>\n",
       "      <td>13/05/2015</td>\n",
       "      <td>-24.0300</td>\n",
       "      <td>7</td>\n",
       "      <td>22.23</td>\n",
       "      <td>86838</td>\n",
       "    </tr>\n",
       "  </tbody>\n",
       "</table>\n",
       "<p>5 rows × 25 columns</p>\n",
       "</div>"
      ],
      "text/plain": [
       "   Row_ID Order_Priority  Discount  Unit_Price  Shipping_Cost  Customer_ID  \\\n",
       "0   20847           High      0.01        2.84           0.93            3   \n",
       "1   20228  Not Specified      0.02      500.98          26.00            5   \n",
       "2   21776       Critical      0.06        9.48           7.29           11   \n",
       "3   24844         Medium      0.09       78.69          19.99           14   \n",
       "4   24846         Medium      0.08        3.28           2.31           14   \n",
       "\n",
       "       Customer_Name       Ship_Mode Customer_Segment Product_Category  ...  \\\n",
       "0      Bonnie Potter     Express Air        Corporate  Office Supplies  ...   \n",
       "1     Ronnie Proctor  Delivery Truck      Home Office        Furniture  ...   \n",
       "2      Marcus Dunlap     Regular Air      Home Office        Furniture  ...   \n",
       "3  Gwendolyn F Tyson     Regular Air   Small Business        Furniture  ...   \n",
       "4  Gwendolyn F Tyson     Regular Air   Small Business  Office Supplies  ...   \n",
       "\n",
       "    Region State_or_Province         City  Postal_Code  Order_Date  \\\n",
       "0     West        Washington    Anacortes        98221  07/01/2015   \n",
       "1     West        California  San Gabriel        91776  13/06/2015   \n",
       "2     East        New Jersey      Roselle         7203  15/02/2015   \n",
       "3  Central         Minnesota   Prior Lake        55372  12/05/2015   \n",
       "4  Central         Minnesota   Prior Lake        55372  12/05/2015   \n",
       "\n",
       "    Ship_Date     Profit Quantity_ordered_new    Sales Order_ID  \n",
       "0  08/01/2015     4.5600                    4    13.01    88522  \n",
       "1  15/06/2015  4390.3665                   12  6362.85    90193  \n",
       "2  17/02/2015   -53.8096                   22   211.15    90192  \n",
       "3  14/05/2015   803.4705                   16  1164.45    86838  \n",
       "4  13/05/2015   -24.0300                    7    22.23    86838  \n",
       "\n",
       "[5 rows x 25 columns]"
      ]
     },
     "execution_count": 6,
     "metadata": {},
     "output_type": "execute_result"
    }
   ],
   "source": [
    "storedf.columns = newheaders\n",
    "storedf.head()"
   ]
  },
  {
   "cell_type": "code",
   "execution_count": 7,
   "metadata": {
    "azdata_cell_guid": "0c765246-5c12-473e-a1ba-15dba1820bc9",
    "language": "python"
   },
   "outputs": [
    {
     "data": {
      "text/html": [
       "<div>\n",
       "<style scoped>\n",
       "    .dataframe tbody tr th:only-of-type {\n",
       "        vertical-align: middle;\n",
       "    }\n",
       "\n",
       "    .dataframe tbody tr th {\n",
       "        vertical-align: top;\n",
       "    }\n",
       "\n",
       "    .dataframe thead th {\n",
       "        text-align: right;\n",
       "    }\n",
       "</style>\n",
       "<table border=\"1\" class=\"dataframe\">\n",
       "  <thead>\n",
       "    <tr style=\"text-align: right;\">\n",
       "      <th></th>\n",
       "      <th>Row_ID</th>\n",
       "      <th>Order_Priority</th>\n",
       "      <th>Discount</th>\n",
       "      <th>Unit_Price</th>\n",
       "      <th>Shipping_Cost</th>\n",
       "      <th>Customer_ID</th>\n",
       "      <th>Customer_Name</th>\n",
       "      <th>Ship_Mode</th>\n",
       "      <th>Customer_Segment</th>\n",
       "      <th>Product_Category</th>\n",
       "      <th>...</th>\n",
       "      <th>Region</th>\n",
       "      <th>State_or_Province</th>\n",
       "      <th>City</th>\n",
       "      <th>Postal_Code</th>\n",
       "      <th>Order_Date</th>\n",
       "      <th>Ship_Date</th>\n",
       "      <th>Profit</th>\n",
       "      <th>Quantity_ordered_new</th>\n",
       "      <th>Sales</th>\n",
       "      <th>Order_ID</th>\n",
       "    </tr>\n",
       "  </thead>\n",
       "  <tbody>\n",
       "    <tr>\n",
       "      <th>0</th>\n",
       "      <td>20847</td>\n",
       "      <td>High</td>\n",
       "      <td>0.01</td>\n",
       "      <td>2.84</td>\n",
       "      <td>0.93</td>\n",
       "      <td>3</td>\n",
       "      <td>Bonnie Potter</td>\n",
       "      <td>Express Air</td>\n",
       "      <td>Corporate</td>\n",
       "      <td>Office Supplies</td>\n",
       "      <td>...</td>\n",
       "      <td>West</td>\n",
       "      <td>Washington</td>\n",
       "      <td>Anacortes</td>\n",
       "      <td>98221</td>\n",
       "      <td>2015-01-07</td>\n",
       "      <td>2015-01-08</td>\n",
       "      <td>4.5600</td>\n",
       "      <td>4</td>\n",
       "      <td>13.01</td>\n",
       "      <td>88522</td>\n",
       "    </tr>\n",
       "    <tr>\n",
       "      <th>1</th>\n",
       "      <td>20228</td>\n",
       "      <td>Not Specified</td>\n",
       "      <td>0.02</td>\n",
       "      <td>500.98</td>\n",
       "      <td>26.00</td>\n",
       "      <td>5</td>\n",
       "      <td>Ronnie Proctor</td>\n",
       "      <td>Delivery Truck</td>\n",
       "      <td>Home Office</td>\n",
       "      <td>Furniture</td>\n",
       "      <td>...</td>\n",
       "      <td>West</td>\n",
       "      <td>California</td>\n",
       "      <td>San Gabriel</td>\n",
       "      <td>91776</td>\n",
       "      <td>2015-06-13</td>\n",
       "      <td>2015-06-15</td>\n",
       "      <td>4390.3665</td>\n",
       "      <td>12</td>\n",
       "      <td>6362.85</td>\n",
       "      <td>90193</td>\n",
       "    </tr>\n",
       "    <tr>\n",
       "      <th>2</th>\n",
       "      <td>21776</td>\n",
       "      <td>Critical</td>\n",
       "      <td>0.06</td>\n",
       "      <td>9.48</td>\n",
       "      <td>7.29</td>\n",
       "      <td>11</td>\n",
       "      <td>Marcus Dunlap</td>\n",
       "      <td>Regular Air</td>\n",
       "      <td>Home Office</td>\n",
       "      <td>Furniture</td>\n",
       "      <td>...</td>\n",
       "      <td>East</td>\n",
       "      <td>New Jersey</td>\n",
       "      <td>Roselle</td>\n",
       "      <td>7203</td>\n",
       "      <td>2015-02-15</td>\n",
       "      <td>2015-02-17</td>\n",
       "      <td>-53.8096</td>\n",
       "      <td>22</td>\n",
       "      <td>211.15</td>\n",
       "      <td>90192</td>\n",
       "    </tr>\n",
       "    <tr>\n",
       "      <th>3</th>\n",
       "      <td>24844</td>\n",
       "      <td>Medium</td>\n",
       "      <td>0.09</td>\n",
       "      <td>78.69</td>\n",
       "      <td>19.99</td>\n",
       "      <td>14</td>\n",
       "      <td>Gwendolyn F Tyson</td>\n",
       "      <td>Regular Air</td>\n",
       "      <td>Small Business</td>\n",
       "      <td>Furniture</td>\n",
       "      <td>...</td>\n",
       "      <td>Central</td>\n",
       "      <td>Minnesota</td>\n",
       "      <td>Prior Lake</td>\n",
       "      <td>55372</td>\n",
       "      <td>2015-05-12</td>\n",
       "      <td>2015-05-14</td>\n",
       "      <td>803.4705</td>\n",
       "      <td>16</td>\n",
       "      <td>1164.45</td>\n",
       "      <td>86838</td>\n",
       "    </tr>\n",
       "    <tr>\n",
       "      <th>4</th>\n",
       "      <td>24846</td>\n",
       "      <td>Medium</td>\n",
       "      <td>0.08</td>\n",
       "      <td>3.28</td>\n",
       "      <td>2.31</td>\n",
       "      <td>14</td>\n",
       "      <td>Gwendolyn F Tyson</td>\n",
       "      <td>Regular Air</td>\n",
       "      <td>Small Business</td>\n",
       "      <td>Office Supplies</td>\n",
       "      <td>...</td>\n",
       "      <td>Central</td>\n",
       "      <td>Minnesota</td>\n",
       "      <td>Prior Lake</td>\n",
       "      <td>55372</td>\n",
       "      <td>2015-05-12</td>\n",
       "      <td>2015-05-13</td>\n",
       "      <td>-24.0300</td>\n",
       "      <td>7</td>\n",
       "      <td>22.23</td>\n",
       "      <td>86838</td>\n",
       "    </tr>\n",
       "  </tbody>\n",
       "</table>\n",
       "<p>5 rows × 25 columns</p>\n",
       "</div>"
      ],
      "text/plain": [
       "   Row_ID Order_Priority  Discount  Unit_Price  Shipping_Cost  Customer_ID  \\\n",
       "0   20847           High      0.01        2.84           0.93            3   \n",
       "1   20228  Not Specified      0.02      500.98          26.00            5   \n",
       "2   21776       Critical      0.06        9.48           7.29           11   \n",
       "3   24844         Medium      0.09       78.69          19.99           14   \n",
       "4   24846         Medium      0.08        3.28           2.31           14   \n",
       "\n",
       "       Customer_Name       Ship_Mode Customer_Segment Product_Category  ...  \\\n",
       "0      Bonnie Potter     Express Air        Corporate  Office Supplies  ...   \n",
       "1     Ronnie Proctor  Delivery Truck      Home Office        Furniture  ...   \n",
       "2      Marcus Dunlap     Regular Air      Home Office        Furniture  ...   \n",
       "3  Gwendolyn F Tyson     Regular Air   Small Business        Furniture  ...   \n",
       "4  Gwendolyn F Tyson     Regular Air   Small Business  Office Supplies  ...   \n",
       "\n",
       "    Region State_or_Province         City  Postal_Code Order_Date  Ship_Date  \\\n",
       "0     West        Washington    Anacortes        98221 2015-01-07 2015-01-08   \n",
       "1     West        California  San Gabriel        91776 2015-06-13 2015-06-15   \n",
       "2     East        New Jersey      Roselle         7203 2015-02-15 2015-02-17   \n",
       "3  Central         Minnesota   Prior Lake        55372 2015-05-12 2015-05-14   \n",
       "4  Central         Minnesota   Prior Lake        55372 2015-05-12 2015-05-13   \n",
       "\n",
       "      Profit Quantity_ordered_new    Sales Order_ID  \n",
       "0     4.5600                    4    13.01    88522  \n",
       "1  4390.3665                   12  6362.85    90193  \n",
       "2   -53.8096                   22   211.15    90192  \n",
       "3   803.4705                   16  1164.45    86838  \n",
       "4   -24.0300                    7    22.23    86838  \n",
       "\n",
       "[5 rows x 25 columns]"
      ]
     },
     "execution_count": 7,
     "metadata": {},
     "output_type": "execute_result"
    }
   ],
   "source": [
    "# Convert Order_Date & Ship_Date into date in terms of their types\n",
    "storedf['Order_Date'] = pd.to_datetime(storedf['Order_Date'],format='%d/%m/%Y')\n",
    "storedf['Ship_Date'] = pd.to_datetime(storedf['Ship_Date'],format='%d/%m/%Y')\n",
    "storedf.head()"
   ]
  },
  {
   "cell_type": "code",
   "execution_count": 8,
   "metadata": {
    "azdata_cell_guid": "99579cd8-c347-4adc-af27-388b3b47389f",
    "language": "python"
   },
   "outputs": [
    {
     "data": {
      "text/plain": [
       "array(['High', 'Not Specified', 'Critical', 'Medium', 'Low', 'Critical '],\n",
       "      dtype=object)"
      ]
     },
     "execution_count": 8,
     "metadata": {},
     "output_type": "execute_result"
    }
   ],
   "source": [
    "storedf.Order_Priority.unique()"
   ]
  },
  {
   "cell_type": "markdown",
   "metadata": {},
   "source": [
    "There are 2 of Criticals (with and without trailing space), I'll get rid of the trailing space"
   ]
  },
  {
   "cell_type": "code",
   "execution_count": 9,
   "metadata": {
    "azdata_cell_guid": "067eed11-a582-45f3-97fc-6b34604e3099",
    "language": "python"
   },
   "outputs": [],
   "source": [
    "storedf['Order_Priority'] = storedf['Order_Priority'].str.strip()"
   ]
  },
  {
   "cell_type": "markdown",
   "metadata": {
    "azdata_cell_guid": "2549f412-a82e-4a22-80d0-fc90a3576d34"
   },
   "source": [
    "## Peparing U.S. State shapefile"
   ]
  },
  {
   "cell_type": "code",
   "execution_count": 10,
   "metadata": {
    "azdata_cell_guid": "2f419387-3a06-422d-944b-2eeb39e1f97d",
    "language": "python",
    "scrolled": true
   },
   "outputs": [
    {
     "data": {
      "text/html": [
       "<div>\n",
       "<style scoped>\n",
       "    .dataframe tbody tr th:only-of-type {\n",
       "        vertical-align: middle;\n",
       "    }\n",
       "\n",
       "    .dataframe tbody tr th {\n",
       "        vertical-align: top;\n",
       "    }\n",
       "\n",
       "    .dataframe thead th {\n",
       "        text-align: right;\n",
       "    }\n",
       "</style>\n",
       "<table border=\"1\" class=\"dataframe\">\n",
       "  <thead>\n",
       "    <tr style=\"text-align: right;\">\n",
       "      <th></th>\n",
       "      <th>STATEFP</th>\n",
       "      <th>STATENS</th>\n",
       "      <th>AFFGEOID</th>\n",
       "      <th>GEOID</th>\n",
       "      <th>STUSPS</th>\n",
       "      <th>NAME</th>\n",
       "      <th>LSAD</th>\n",
       "      <th>ALAND</th>\n",
       "      <th>AWATER</th>\n",
       "      <th>geometry</th>\n",
       "    </tr>\n",
       "  </thead>\n",
       "  <tbody>\n",
       "    <tr>\n",
       "      <th>0</th>\n",
       "      <td>28</td>\n",
       "      <td>01779790</td>\n",
       "      <td>0400000US28</td>\n",
       "      <td>28</td>\n",
       "      <td>MS</td>\n",
       "      <td>Mississippi</td>\n",
       "      <td>00</td>\n",
       "      <td>121533519481</td>\n",
       "      <td>3926919758</td>\n",
       "      <td>MULTIPOLYGON (((-88.50297 30.21523, -88.49176 ...</td>\n",
       "    </tr>\n",
       "    <tr>\n",
       "      <th>1</th>\n",
       "      <td>37</td>\n",
       "      <td>01027616</td>\n",
       "      <td>0400000US37</td>\n",
       "      <td>37</td>\n",
       "      <td>NC</td>\n",
       "      <td>North Carolina</td>\n",
       "      <td>00</td>\n",
       "      <td>125923656064</td>\n",
       "      <td>13466071395</td>\n",
       "      <td>MULTIPOLYGON (((-75.72681 35.93584, -75.71827 ...</td>\n",
       "    </tr>\n",
       "    <tr>\n",
       "      <th>2</th>\n",
       "      <td>40</td>\n",
       "      <td>01102857</td>\n",
       "      <td>0400000US40</td>\n",
       "      <td>40</td>\n",
       "      <td>OK</td>\n",
       "      <td>Oklahoma</td>\n",
       "      <td>00</td>\n",
       "      <td>177662925723</td>\n",
       "      <td>3374587997</td>\n",
       "      <td>POLYGON ((-103.00257 36.52659, -103.00219 36.6...</td>\n",
       "    </tr>\n",
       "    <tr>\n",
       "      <th>3</th>\n",
       "      <td>51</td>\n",
       "      <td>01779803</td>\n",
       "      <td>0400000US51</td>\n",
       "      <td>51</td>\n",
       "      <td>VA</td>\n",
       "      <td>Virginia</td>\n",
       "      <td>00</td>\n",
       "      <td>102257717110</td>\n",
       "      <td>8528531774</td>\n",
       "      <td>MULTIPOLYGON (((-75.74241 37.80835, -75.74151 ...</td>\n",
       "    </tr>\n",
       "    <tr>\n",
       "      <th>4</th>\n",
       "      <td>54</td>\n",
       "      <td>01779805</td>\n",
       "      <td>0400000US54</td>\n",
       "      <td>54</td>\n",
       "      <td>WV</td>\n",
       "      <td>West Virginia</td>\n",
       "      <td>00</td>\n",
       "      <td>62266474513</td>\n",
       "      <td>489028543</td>\n",
       "      <td>POLYGON ((-82.64320 38.16909, -82.64300 38.169...</td>\n",
       "    </tr>\n",
       "  </tbody>\n",
       "</table>\n",
       "</div>"
      ],
      "text/plain": [
       "  STATEFP   STATENS     AFFGEOID GEOID STUSPS            NAME LSAD  \\\n",
       "0      28  01779790  0400000US28    28     MS     Mississippi   00   \n",
       "1      37  01027616  0400000US37    37     NC  North Carolina   00   \n",
       "2      40  01102857  0400000US40    40     OK        Oklahoma   00   \n",
       "3      51  01779803  0400000US51    51     VA        Virginia   00   \n",
       "4      54  01779805  0400000US54    54     WV   West Virginia   00   \n",
       "\n",
       "          ALAND       AWATER  \\\n",
       "0  121533519481   3926919758   \n",
       "1  125923656064  13466071395   \n",
       "2  177662925723   3374587997   \n",
       "3  102257717110   8528531774   \n",
       "4   62266474513    489028543   \n",
       "\n",
       "                                            geometry  \n",
       "0  MULTIPOLYGON (((-88.50297 30.21523, -88.49176 ...  \n",
       "1  MULTIPOLYGON (((-75.72681 35.93584, -75.71827 ...  \n",
       "2  POLYGON ((-103.00257 36.52659, -103.00219 36.6...  \n",
       "3  MULTIPOLYGON (((-75.74241 37.80835, -75.74151 ...  \n",
       "4  POLYGON ((-82.64320 38.16909, -82.64300 38.169...  "
      ]
     },
     "execution_count": 10,
     "metadata": {},
     "output_type": "execute_result"
    }
   ],
   "source": [
    "states = gpd.read_file('/Users/pims/Desktop/projects/superstore/cb_2018_us_state_500k/cb_2018_us_state_500k.shp')\n",
    "states.head()               "
   ]
  },
  {
   "cell_type": "code",
   "execution_count": 11,
   "metadata": {
    "azdata_cell_guid": "5b86c982-189b-404b-9efa-9f9f9ff8c787",
    "language": "python",
    "scrolled": true
   },
   "outputs": [
    {
     "data": {
      "text/plain": [
       "<Geographic 2D CRS: EPSG:4269>\n",
       "Name: NAD83\n",
       "Axis Info [ellipsoidal]:\n",
       "- Lat[north]: Geodetic latitude (degree)\n",
       "- Lon[east]: Geodetic longitude (degree)\n",
       "Area of Use:\n",
       "- name: North America - onshore and offshore: Canada - Alberta; British Columbia; Manitoba; New Brunswick; Newfoundland and Labrador; Northwest Territories; Nova Scotia; Nunavut; Ontario; Prince Edward Island; Quebec; Saskatchewan; Yukon. Puerto Rico. United States (USA) - Alabama; Alaska; Arizona; Arkansas; California; Colorado; Connecticut; Delaware; Florida; Georgia; Hawaii; Idaho; Illinois; Indiana; Iowa; Kansas; Kentucky; Louisiana; Maine; Maryland; Massachusetts; Michigan; Minnesota; Mississippi; Missouri; Montana; Nebraska; Nevada; New Hampshire; New Jersey; New Mexico; New York; North Carolina; North Dakota; Ohio; Oklahoma; Oregon; Pennsylvania; Rhode Island; South Carolina; South Dakota; Tennessee; Texas; Utah; Vermont; Virginia; Washington; West Virginia; Wisconsin; Wyoming. US Virgin Islands. British Virgin Islands.\n",
       "- bounds: (167.65, 14.92, -40.73, 86.45)\n",
       "Datum: North American Datum 1983\n",
       "- Ellipsoid: GRS 1980\n",
       "- Prime Meridian: Greenwich"
      ]
     },
     "execution_count": 11,
     "metadata": {},
     "output_type": "execute_result"
    }
   ],
   "source": [
    "# Get to know the coordinate reference system (crs)\n",
    "states.crs "
   ]
  },
  {
   "cell_type": "code",
   "execution_count": 12,
   "metadata": {
    "azdata_cell_guid": "fab6b0f3-2676-43b6-a398-7736a53a0514",
    "language": "python"
   },
   "outputs": [
    {
     "data": {
      "text/plain": [
       "<AxesSubplot:>"
      ]
     },
     "execution_count": 12,
     "metadata": {},
     "output_type": "execute_result"
    },
    {
     "data": {
      "image/png": "[encoded data removed]",
      "text/plain": [
       "<Figure size 640x480 with 1 Axes>"
      ]
     },
     "metadata": {},
     "output_type": "display_data"
    }
   ],
   "source": [
    "# Make the map look more familiar (like ggmaps)\n",
    "states = states.to_crs('EPSG:3395')\n",
    "states.plot()"
   ]
  },
  {
   "cell_type": "markdown",
   "metadata": {},
   "source": [
    "There are some non-continental states in the map above."
   ]
  },
  {
   "cell_type": "code",
   "execution_count": 13,
   "metadata": {
    "azdata_cell_guid": "db4a9010-3998-495c-ba97-18a011abc5ab",
    "language": "python"
   },
   "outputs": [],
   "source": [
    "# Remove non-continental us states except Rhode Island because storedf has got this state\n",
    "states = states[~states['NAME'].isin(['Alaska', 'Hawaii', \n",
    "                                    'Puerto Rico',\n",
    "                                    'United States Virgin Islands',\n",
    "                                    'Commonwealth of the Northern Mariana Islands',\n",
    "                                   'American Samoa',\n",
    "                                   'Guam'])].reset_index()"
   ]
  },
  {
   "cell_type": "code",
   "execution_count": 19,
   "metadata": {
    "azdata_cell_guid": "a223fec3-b701-42e8-b29c-794cb674a699",
    "language": "python"
   },
   "outputs": [
    {
     "data": {
      "text/plain": [
       "<AxesSubplot:>"
      ]
     },
     "execution_count": 19,
     "metadata": {},
     "output_type": "execute_result"
    },
    {
     "data": {
      "image/png": "[encoded data removed]",
      "text/plain": [
       "<Figure size 640x480 with 1 Axes>"
      ]
     },
     "metadata": {},
     "output_type": "display_data"
    }
   ],
   "source": [
    "states.plot()"
   ]
  },
  {
   "cell_type": "code",
   "execution_count": 15,
   "metadata": {
    "azdata_cell_guid": "c6a17187-29a6-4daa-86a0-00709222ad67",
    "language": "python"
   },
   "outputs": [],
   "source": [
    "# Check if there are unmatched state names\n",
    "statesname0 = states.NAME.unique().tolist()\n",
    "statesname1 = storedf.State_or_Province.unique().tolist()"
   ]
  },
  {
   "cell_type": "code",
   "execution_count": 17,
   "metadata": {
    "azdata_cell_guid": "3a907122-cbe2-40a7-9da3-b8d54951dc71",
    "language": "python"
   },
   "outputs": [],
   "source": [
    "for i in statesname1:\n",
    "    if i not in statesname0:\n",
    "        print(i)"
   ]
  },
  {
   "cell_type": "markdown",
   "metadata": {},
   "source": [
    "100% Same name"
   ]
  },
  {
   "cell_type": "markdown",
   "metadata": {
    "azdata_cell_guid": "21f181af-d99f-41c4-a094-167af2de382b"
   },
   "source": [
    "## 1. What is the distribution of days the order takes depends on it's priority ?"
   ]
  },
  {
   "cell_type": "code",
   "execution_count": 21,
   "metadata": {
    "azdata_cell_guid": "a065e279-7e5d-4c29-a9a7-1b1557866064",
    "language": "python"
   },
   "outputs": [
    {
     "data": {
      "text/html": [
       "<div>\n",
       "<style scoped>\n",
       "    .dataframe tbody tr th:only-of-type {\n",
       "        vertical-align: middle;\n",
       "    }\n",
       "\n",
       "    .dataframe tbody tr th {\n",
       "        vertical-align: top;\n",
       "    }\n",
       "\n",
       "    .dataframe thead th {\n",
       "        text-align: right;\n",
       "    }\n",
       "</style>\n",
       "<table border=\"1\" class=\"dataframe\">\n",
       "  <thead>\n",
       "    <tr style=\"text-align: right;\">\n",
       "      <th></th>\n",
       "      <th>Row_ID</th>\n",
       "      <th>Order_Priority</th>\n",
       "      <th>Discount</th>\n",
       "      <th>Unit_Price</th>\n",
       "      <th>Shipping_Cost</th>\n",
       "      <th>Customer_ID</th>\n",
       "      <th>Customer_Name</th>\n",
       "      <th>Ship_Mode</th>\n",
       "      <th>Customer_Segment</th>\n",
       "      <th>Product_Category</th>\n",
       "      <th>...</th>\n",
       "      <th>State_or_Province</th>\n",
       "      <th>City</th>\n",
       "      <th>Postal_Code</th>\n",
       "      <th>Order_Date</th>\n",
       "      <th>Ship_Date</th>\n",
       "      <th>Profit</th>\n",
       "      <th>Quantity_ordered_new</th>\n",
       "      <th>Sales</th>\n",
       "      <th>Order_ID</th>\n",
       "      <th>Diff_Days</th>\n",
       "    </tr>\n",
       "  </thead>\n",
       "  <tbody>\n",
       "    <tr>\n",
       "      <th>0</th>\n",
       "      <td>20847</td>\n",
       "      <td>High</td>\n",
       "      <td>0.01</td>\n",
       "      <td>2.84</td>\n",
       "      <td>0.93</td>\n",
       "      <td>3</td>\n",
       "      <td>Bonnie Potter</td>\n",
       "      <td>Express Air</td>\n",
       "      <td>Corporate</td>\n",
       "      <td>Office Supplies</td>\n",
       "      <td>...</td>\n",
       "      <td>Washington</td>\n",
       "      <td>Anacortes</td>\n",
       "      <td>98221</td>\n",
       "      <td>2015-01-07</td>\n",
       "      <td>2015-01-08</td>\n",
       "      <td>4.5600</td>\n",
       "      <td>4</td>\n",
       "      <td>13.01</td>\n",
       "      <td>88522</td>\n",
       "      <td>1.0</td>\n",
       "    </tr>\n",
       "    <tr>\n",
       "      <th>1</th>\n",
       "      <td>20228</td>\n",
       "      <td>Not Specified</td>\n",
       "      <td>0.02</td>\n",
       "      <td>500.98</td>\n",
       "      <td>26.00</td>\n",
       "      <td>5</td>\n",
       "      <td>Ronnie Proctor</td>\n",
       "      <td>Delivery Truck</td>\n",
       "      <td>Home Office</td>\n",
       "      <td>Furniture</td>\n",
       "      <td>...</td>\n",
       "      <td>California</td>\n",
       "      <td>San Gabriel</td>\n",
       "      <td>91776</td>\n",
       "      <td>2015-06-13</td>\n",
       "      <td>2015-06-15</td>\n",
       "      <td>4390.3665</td>\n",
       "      <td>12</td>\n",
       "      <td>6362.85</td>\n",
       "      <td>90193</td>\n",
       "      <td>2.0</td>\n",
       "    </tr>\n",
       "    <tr>\n",
       "      <th>2</th>\n",
       "      <td>21776</td>\n",
       "      <td>Critical</td>\n",
       "      <td>0.06</td>\n",
       "      <td>9.48</td>\n",
       "      <td>7.29</td>\n",
       "      <td>11</td>\n",
       "      <td>Marcus Dunlap</td>\n",
       "      <td>Regular Air</td>\n",
       "      <td>Home Office</td>\n",
       "      <td>Furniture</td>\n",
       "      <td>...</td>\n",
       "      <td>New Jersey</td>\n",
       "      <td>Roselle</td>\n",
       "      <td>7203</td>\n",
       "      <td>2015-02-15</td>\n",
       "      <td>2015-02-17</td>\n",
       "      <td>-53.8096</td>\n",
       "      <td>22</td>\n",
       "      <td>211.15</td>\n",
       "      <td>90192</td>\n",
       "      <td>2.0</td>\n",
       "    </tr>\n",
       "    <tr>\n",
       "      <th>3</th>\n",
       "      <td>24844</td>\n",
       "      <td>Medium</td>\n",
       "      <td>0.09</td>\n",
       "      <td>78.69</td>\n",
       "      <td>19.99</td>\n",
       "      <td>14</td>\n",
       "      <td>Gwendolyn F Tyson</td>\n",
       "      <td>Regular Air</td>\n",
       "      <td>Small Business</td>\n",
       "      <td>Furniture</td>\n",
       "      <td>...</td>\n",
       "      <td>Minnesota</td>\n",
       "      <td>Prior Lake</td>\n",
       "      <td>55372</td>\n",
       "      <td>2015-05-12</td>\n",
       "      <td>2015-05-14</td>\n",
       "      <td>803.4705</td>\n",
       "      <td>16</td>\n",
       "      <td>1164.45</td>\n",
       "      <td>86838</td>\n",
       "      <td>2.0</td>\n",
       "    </tr>\n",
       "    <tr>\n",
       "      <th>4</th>\n",
       "      <td>24846</td>\n",
       "      <td>Medium</td>\n",
       "      <td>0.08</td>\n",
       "      <td>3.28</td>\n",
       "      <td>2.31</td>\n",
       "      <td>14</td>\n",
       "      <td>Gwendolyn F Tyson</td>\n",
       "      <td>Regular Air</td>\n",
       "      <td>Small Business</td>\n",
       "      <td>Office Supplies</td>\n",
       "      <td>...</td>\n",
       "      <td>Minnesota</td>\n",
       "      <td>Prior Lake</td>\n",
       "      <td>55372</td>\n",
       "      <td>2015-05-12</td>\n",
       "      <td>2015-05-13</td>\n",
       "      <td>-24.0300</td>\n",
       "      <td>7</td>\n",
       "      <td>22.23</td>\n",
       "      <td>86838</td>\n",
       "      <td>1.0</td>\n",
       "    </tr>\n",
       "  </tbody>\n",
       "</table>\n",
       "<p>5 rows × 26 columns</p>\n",
       "</div>"
      ],
      "text/plain": [
       "   Row_ID Order_Priority  Discount  Unit_Price  Shipping_Cost  Customer_ID  \\\n",
       "0   20847           High      0.01        2.84           0.93            3   \n",
       "1   20228  Not Specified      0.02      500.98          26.00            5   \n",
       "2   21776       Critical      0.06        9.48           7.29           11   \n",
       "3   24844         Medium      0.09       78.69          19.99           14   \n",
       "4   24846         Medium      0.08        3.28           2.31           14   \n",
       "\n",
       "       Customer_Name       Ship_Mode Customer_Segment Product_Category  ...  \\\n",
       "0      Bonnie Potter     Express Air        Corporate  Office Supplies  ...   \n",
       "1     Ronnie Proctor  Delivery Truck      Home Office        Furniture  ...   \n",
       "2      Marcus Dunlap     Regular Air      Home Office        Furniture  ...   \n",
       "3  Gwendolyn F Tyson     Regular Air   Small Business        Furniture  ...   \n",
       "4  Gwendolyn F Tyson     Regular Air   Small Business  Office Supplies  ...   \n",
       "\n",
       "  State_or_Province         City Postal_Code  Order_Date  Ship_Date  \\\n",
       "0        Washington    Anacortes       98221  2015-01-07 2015-01-08   \n",
       "1        California  San Gabriel       91776  2015-06-13 2015-06-15   \n",
       "2        New Jersey      Roselle        7203  2015-02-15 2015-02-17   \n",
       "3         Minnesota   Prior Lake       55372  2015-05-12 2015-05-14   \n",
       "4         Minnesota   Prior Lake       55372  2015-05-12 2015-05-13   \n",
       "\n",
       "      Profit Quantity_ordered_new    Sales  Order_ID Diff_Days  \n",
       "0     4.5600                    4    13.01     88522       1.0  \n",
       "1  4390.3665                   12  6362.85     90193       2.0  \n",
       "2   -53.8096                   22   211.15     90192       2.0  \n",
       "3   803.4705                   16  1164.45     86838       2.0  \n",
       "4   -24.0300                    7    22.23     86838       1.0  \n",
       "\n",
       "[5 rows x 26 columns]"
      ]
     },
     "execution_count": 21,
     "metadata": {},
     "output_type": "execute_result"
    }
   ],
   "source": [
    "# Create the new column which is the difference between order date and ship date\n",
    "storedf1 = storedf.copy()\n",
    "storedf1['Diff_Days'] = (storedf1['Ship_Date'] - storedf1['Order_Date']) / np.timedelta64(1, 'D')\n",
    "storedf1.head()"
   ]
  },
  {
   "cell_type": "code",
   "execution_count": 85,
   "metadata": {},
   "outputs": [
    {
     "data": {
      "text/plain": [
       "<seaborn.axisgrid.FacetGrid at 0x2f58e5490>"
      ]
     },
     "execution_count": 85,
     "metadata": {},
     "output_type": "execute_result"
    },
    {
     "data": {
      "image/png": "[encoded data removed]",
      "text/plain": [
       "<Figure size 642.625x500 with 1 Axes>"
      ]
     },
     "metadata": {},
     "output_type": "display_data"
    }
   ],
   "source": [
    "sns.displot(storedf1, x='Diff_Days',hue='Order_Priority' ,kind='kde', fill=True)"
   ]
  },
  {
   "cell_type": "markdown",
   "metadata": {},
   "source": [
    "From the chart above, \n",
    "- The number of days change depend on the order's priority.\n",
    "- The most common number of shipping days in High,Medium, Critical and Not Specified priority are almost the same, is approximately 1-2 days.\n",
    "- Number of shipping days in low priority are varies and have more days in shipping. "
   ]
  },
  {
   "cell_type": "markdown",
   "metadata": {
    "azdata_cell_guid": "f32055da-0a15-4739-a14f-62d41e132176"
   },
   "source": [
    "## 2. What is the most effective delivery way ?"
   ]
  },
  {
   "cell_type": "code",
   "execution_count": 52,
   "metadata": {
    "azdata_cell_guid": "4c78ecaa-4c24-4947-bd27-5764a7bf3910",
    "language": "python"
   },
   "outputs": [
    {
     "data": {
      "text/plain": [
       "Ship_Mode\n",
       "Delivery Truck     275\n",
       "Express Air        240\n",
       "Regular Air       1437\n",
       "Name: Row_ID, dtype: int64"
      ]
     },
     "execution_count": 52,
     "metadata": {},
     "output_type": "execute_result"
    }
   ],
   "source": [
    "storedf.groupby('Ship_Mode')['Row_ID'].count()"
   ]
  },
  {
   "cell_type": "markdown",
   "metadata": {
    "azdata_cell_guid": "b1ca7670-7a0e-45ef-80bc-f181e2566857"
   },
   "source": [
    "Regular air is the most popular shipping method."
   ]
  },
  {
   "cell_type": "code",
   "execution_count": 89,
   "metadata": {
    "scrolled": false
   },
   "outputs": [
    {
     "data": {
      "text/plain": [
       "<AxesSubplot:xlabel='Ship_Mode', ylabel='count'>"
      ]
     },
     "execution_count": 89,
     "metadata": {},
     "output_type": "execute_result"
    },
    {
     "data": {
      "image/png": "[encoded data removed]",
      "text/plain": [
       "<Figure size 640x480 with 1 Axes>"
      ]
     },
     "metadata": {},
     "output_type": "display_data"
    }
   ],
   "source": [
    "sns.countplot(data = storedf, x = 'Ship_Mode', hue = 'Order_Priority',palette='Spectral')"
   ]
  },
  {
   "cell_type": "markdown",
   "metadata": {},
   "source": [
    "From the chart above, regular air is the most popular shipping method in every order priority."
   ]
  },
  {
   "cell_type": "code",
   "execution_count": 92,
   "metadata": {},
   "outputs": [
    {
     "data": {
      "text/html": [
       "<div>\n",
       "<style scoped>\n",
       "    .dataframe tbody tr th:only-of-type {\n",
       "        vertical-align: middle;\n",
       "    }\n",
       "\n",
       "    .dataframe tbody tr th {\n",
       "        vertical-align: top;\n",
       "    }\n",
       "\n",
       "    .dataframe thead th {\n",
       "        text-align: right;\n",
       "    }\n",
       "</style>\n",
       "<table border=\"1\" class=\"dataframe\">\n",
       "  <thead>\n",
       "    <tr style=\"text-align: right;\">\n",
       "      <th></th>\n",
       "      <th>count</th>\n",
       "      <th>mean</th>\n",
       "      <th>std</th>\n",
       "      <th>min</th>\n",
       "      <th>25%</th>\n",
       "      <th>50%</th>\n",
       "      <th>75%</th>\n",
       "      <th>max</th>\n",
       "    </tr>\n",
       "    <tr>\n",
       "      <th>Ship_Mode</th>\n",
       "      <th></th>\n",
       "      <th></th>\n",
       "      <th></th>\n",
       "      <th></th>\n",
       "      <th></th>\n",
       "      <th></th>\n",
       "      <th></th>\n",
       "      <th></th>\n",
       "    </tr>\n",
       "  </thead>\n",
       "  <tbody>\n",
       "    <tr>\n",
       "      <th>Delivery Truck</th>\n",
       "      <td>275.0</td>\n",
       "      <td>1.894545</td>\n",
       "      <td>1.625461</td>\n",
       "      <td>0.0</td>\n",
       "      <td>1.0</td>\n",
       "      <td>2.0</td>\n",
       "      <td>2.0</td>\n",
       "      <td>9.0</td>\n",
       "    </tr>\n",
       "    <tr>\n",
       "      <th>Express Air</th>\n",
       "      <td>240.0</td>\n",
       "      <td>1.800000</td>\n",
       "      <td>1.420708</td>\n",
       "      <td>0.0</td>\n",
       "      <td>1.0</td>\n",
       "      <td>2.0</td>\n",
       "      <td>2.0</td>\n",
       "      <td>8.0</td>\n",
       "    </tr>\n",
       "    <tr>\n",
       "      <th>Regular Air</th>\n",
       "      <td>1437.0</td>\n",
       "      <td>1.972860</td>\n",
       "      <td>1.764700</td>\n",
       "      <td>0.0</td>\n",
       "      <td>1.0</td>\n",
       "      <td>2.0</td>\n",
       "      <td>2.0</td>\n",
       "      <td>10.0</td>\n",
       "    </tr>\n",
       "  </tbody>\n",
       "</table>\n",
       "</div>"
      ],
      "text/plain": [
       "                 count      mean       std  min  25%  50%  75%   max\n",
       "Ship_Mode                                                           \n",
       "Delivery Truck   275.0  1.894545  1.625461  0.0  1.0  2.0  2.0   9.0\n",
       "Express Air      240.0  1.800000  1.420708  0.0  1.0  2.0  2.0   8.0\n",
       "Regular Air     1437.0  1.972860  1.764700  0.0  1.0  2.0  2.0  10.0"
      ]
     },
     "execution_count": 92,
     "metadata": {},
     "output_type": "execute_result"
    }
   ],
   "source": [
    "storedf1.groupby('Ship_Mode')['Diff_Days'].describe()"
   ]
  },
  {
   "cell_type": "markdown",
   "metadata": {},
   "source": [
    "The nummber of Shipping days are almost equal in every method."
   ]
  },
  {
   "cell_type": "markdown",
   "metadata": {
    "azdata_cell_guid": "ff90ea2c-0306-4120-8503-4fa47ad65f52"
   },
   "source": [
    "## 3.There is a relationship between priority and profit ?"
   ]
  },
  {
   "cell_type": "code",
   "execution_count": 103,
   "metadata": {},
   "outputs": [
    {
     "data": {
      "text/html": [
       "<div>\n",
       "<style scoped>\n",
       "    .dataframe tbody tr th:only-of-type {\n",
       "        vertical-align: middle;\n",
       "    }\n",
       "\n",
       "    .dataframe tbody tr th {\n",
       "        vertical-align: top;\n",
       "    }\n",
       "\n",
       "    .dataframe thead th {\n",
       "        text-align: right;\n",
       "    }\n",
       "</style>\n",
       "<table border=\"1\" class=\"dataframe\">\n",
       "  <thead>\n",
       "    <tr style=\"text-align: right;\">\n",
       "      <th></th>\n",
       "      <th>count</th>\n",
       "      <th>mean</th>\n",
       "      <th>std</th>\n",
       "      <th>min</th>\n",
       "      <th>25%</th>\n",
       "      <th>50%</th>\n",
       "      <th>75%</th>\n",
       "      <th>max</th>\n",
       "    </tr>\n",
       "    <tr>\n",
       "      <th>Order_Priority</th>\n",
       "      <th></th>\n",
       "      <th></th>\n",
       "      <th></th>\n",
       "      <th></th>\n",
       "      <th></th>\n",
       "      <th></th>\n",
       "      <th></th>\n",
       "      <th></th>\n",
       "    </tr>\n",
       "  </thead>\n",
       "  <tbody>\n",
       "    <tr>\n",
       "      <th>Critical</th>\n",
       "      <td>391.0</td>\n",
       "      <td>97.968640</td>\n",
       "      <td>1145.592989</td>\n",
       "      <td>-13706.464000</td>\n",
       "      <td>-71.98100</td>\n",
       "      <td>2.70600</td>\n",
       "      <td>158.271650</td>\n",
       "      <td>4899.1288</td>\n",
       "    </tr>\n",
       "    <tr>\n",
       "      <th>High</th>\n",
       "      <td>391.0</td>\n",
       "      <td>93.351742</td>\n",
       "      <td>852.304277</td>\n",
       "      <td>-3061.820000</td>\n",
       "      <td>-96.16000</td>\n",
       "      <td>-1.07120</td>\n",
       "      <td>103.551150</td>\n",
       "      <td>7402.3200</td>\n",
       "    </tr>\n",
       "    <tr>\n",
       "      <th>Low</th>\n",
       "      <td>398.0</td>\n",
       "      <td>88.982043</td>\n",
       "      <td>1209.750777</td>\n",
       "      <td>-14140.701600</td>\n",
       "      <td>-91.86700</td>\n",
       "      <td>6.56283</td>\n",
       "      <td>115.733475</td>\n",
       "      <td>8798.1831</td>\n",
       "    </tr>\n",
       "    <tr>\n",
       "      <th>Medium</th>\n",
       "      <td>376.0</td>\n",
       "      <td>115.346069</td>\n",
       "      <td>1428.434330</td>\n",
       "      <td>-16476.838000</td>\n",
       "      <td>-77.22843</td>\n",
       "      <td>3.12850</td>\n",
       "      <td>112.977000</td>\n",
       "      <td>7024.2069</td>\n",
       "    </tr>\n",
       "    <tr>\n",
       "      <th>Not Specified</th>\n",
       "      <td>396.0</td>\n",
       "      <td>177.995878</td>\n",
       "      <td>1002.567399</td>\n",
       "      <td>-5390.738892</td>\n",
       "      <td>-85.46160</td>\n",
       "      <td>-4.38050</td>\n",
       "      <td>116.732925</td>\n",
       "      <td>9228.2256</td>\n",
       "    </tr>\n",
       "  </tbody>\n",
       "</table>\n",
       "</div>"
      ],
      "text/plain": [
       "                count        mean          std           min       25%  \\\n",
       "Order_Priority                                                           \n",
       "Critical        391.0   97.968640  1145.592989 -13706.464000 -71.98100   \n",
       "High            391.0   93.351742   852.304277  -3061.820000 -96.16000   \n",
       "Low             398.0   88.982043  1209.750777 -14140.701600 -91.86700   \n",
       "Medium          376.0  115.346069  1428.434330 -16476.838000 -77.22843   \n",
       "Not Specified   396.0  177.995878  1002.567399  -5390.738892 -85.46160   \n",
       "\n",
       "                    50%         75%        max  \n",
       "Order_Priority                                  \n",
       "Critical        2.70600  158.271650  4899.1288  \n",
       "High           -1.07120  103.551150  7402.3200  \n",
       "Low             6.56283  115.733475  8798.1831  \n",
       "Medium          3.12850  112.977000  7024.2069  \n",
       "Not Specified  -4.38050  116.732925  9228.2256  "
      ]
     },
     "execution_count": 103,
     "metadata": {},
     "output_type": "execute_result"
    }
   ],
   "source": [
    "storedf.groupby('Order_Priority')['Profit'].describe()"
   ]
  },
  {
   "cell_type": "code",
   "execution_count": 116,
   "metadata": {},
   "outputs": [
    {
     "data": {
      "text/plain": [
       "<AxesSubplot:xlabel='Order_Priority', ylabel='Profit'>"
      ]
     },
     "execution_count": 116,
     "metadata": {},
     "output_type": "execute_result"
    },
    {
     "data": {
      "image/png": "[encoded data removed]",
      "text/plain": [
       "<Figure size 640x480 with 1 Axes>"
      ]
     },
     "metadata": {},
     "output_type": "display_data"
    }
   ],
   "source": [
    "sns.lineplot(data=storedf, x='Order_Priority', y='Profit')\n",
    "# The mean and 95% confidence interval"
   ]
  },
  {
   "cell_type": "markdown",
   "metadata": {},
   "source": [
    "- The mean number of Not Specified priority is higher in profit, The rests are almost the same.\n",
    "- We can find lost orders in every kind of order priority."
   ]
  },
  {
   "cell_type": "markdown",
   "metadata": {
    "azdata_cell_guid": "cf8974e4-f211-41d5-95d0-f10c4f721931"
   },
   "source": [
    "## 4. Which category sells more and in which state ?"
   ]
  },
  {
   "cell_type": "code",
   "execution_count": null,
   "metadata": {
    "azdata_cell_guid": "1a337d95-143a-4e88-b0b1-e5efdd4bf1bc",
    "language": "python"
   },
   "outputs": [],
   "source": [
    "storedf.groupby('Product_Category')['Row_ID'].count().reset_index()"
   ]
  },
  {
   "cell_type": "markdown",
   "metadata": {
    "azdata_cell_guid": "5a72a4d5-8c56-4555-afbb-67f3a023b27f"
   },
   "source": [
    "From the table above, Office Supplies are most sold"
   ]
  },
  {
   "cell_type": "code",
   "execution_count": null,
   "metadata": {
    "azdata_cell_guid": "a84bf8e4-0f73-4060-b540-73b97489f313",
    "language": "python"
   },
   "outputs": [],
   "source": [
    "storedf4 = storedf[storedf['Product_Category'] == 'Office Supplies']\n",
    "techbystate = storedf4.groupby('State_or_Province')['Row_ID'].count().reset_index()\n",
    "techbystate.head()"
   ]
  },
  {
   "cell_type": "code",
   "execution_count": null,
   "metadata": {
    "azdata_cell_guid": "346b1b45-e776-4ba7-8f78-e8b1ff610b94",
    "language": "python"
   },
   "outputs": [],
   "source": [
    "plot4 = pd.merge(left=techbystate,right=states,left_on='State_or_Province',\n",
    "                right_on='NAME',how='left')\n",
    "gplot4 = gpd.GeoDataFrame(plot4)"
   ]
  },
  {
   "cell_type": "code",
   "execution_count": null,
   "metadata": {
    "azdata_cell_guid": "cea136ba-9d85-4178-8626-9af13ac88da6",
    "language": "python"
   },
   "outputs": [],
   "source": [
    "fig = plt.figure(1, figsize=(25,15)) \n",
    "ax = fig.add_subplot()\n",
    "ax.set_title('Office Supplies sold by States',size=30,weight='bold')\n",
    "gplot4.apply(lambda x: ax.annotate(text=x.STUSPS, xy=x.geometry.centroid.coords[0], \n",
    "                                   ha='center', fontsize=14),axis=1)\n",
    "gplot4.boundary.plot(ax=ax, color='Black', linewidth=.4)\n",
    "gplot4.plot(ax=ax, column='Row_ID',legend=True,cmap='coolwarm'\n",
    "                ,legend_kwds={'shrink':0.5})\n",
    "\n",
    "plt.show()"
   ]
  },
  {
   "cell_type": "markdown",
   "metadata": {
    "azdata_cell_guid": "64b4a20c-d08e-4e19-a99e-2eaf12eaa228"
   },
   "source": [
    "The map above shows the number of office supplies are sold by states"
   ]
  },
  {
   "cell_type": "markdown",
   "metadata": {
    "azdata_cell_guid": "f5b37149-b30f-4a83-87dc-e7d3b7ed5c04"
   },
   "source": [
    "## 5. What is the number of order in each region and it's profit ?\n",
    "- "
   ]
  },
  {
   "cell_type": "code",
   "execution_count": null,
   "metadata": {
    "azdata_cell_guid": "8b8a2674-3458-408d-b1e6-c9795a1dd6bf",
    "language": "python"
   },
   "outputs": [],
   "source": [
    "countbyreg = storedf.groupby('Region')['Row_ID'].count().reset_index()\n",
    "countbyreg"
   ]
  },
  {
   "cell_type": "code",
   "execution_count": null,
   "metadata": {
    "azdata_cell_guid": "b7812191-d398-4129-986d-6ef5db4928f8",
    "language": "python"
   },
   "outputs": [],
   "source": [
    "# Add Region column into States dataframe\n",
    "regiondf = storedf[['Region','State_or_Province']].drop_duplicates(keep='first').reset_index(drop=True)\n",
    "StateswRegion = pd.merge(left=regiondf, right=states,\n",
    "                        left_on='State_or_Province',right_on='NAME',\n",
    "                        how='left')\n",
    "StateswRegion.head()"
   ]
  },
  {
   "cell_type": "code",
   "execution_count": null,
   "metadata": {
    "azdata_cell_guid": "584e7d9d-4f8e-4a8c-b03b-ad5cfafc11d1",
    "language": "python"
   },
   "outputs": [],
   "source": [
    "StateswRegion.Region.unique() # There are 4 regions"
   ]
  },
  {
   "cell_type": "code",
   "execution_count": null,
   "metadata": {
    "azdata_cell_guid": "2b49b601-8ae5-4c5c-8c8b-a33d66eb3275",
    "language": "python"
   },
   "outputs": [],
   "source": [
    "# Merge 2 dataframes\n",
    "plot5 = pd.merge(left=StateswRegion, right=countbyreg,\n",
    "                        left_on='Region',right_on='Region',\n",
    "                        how='left')"
   ]
  },
  {
   "cell_type": "code",
   "execution_count": null,
   "metadata": {
    "azdata_cell_guid": "1f1829e6-849f-4263-b664-8eb904c79041",
    "language": "python"
   },
   "outputs": [],
   "source": [
    "gplot5 = gpd.GeoDataFrame(plot5)"
   ]
  },
  {
   "cell_type": "code",
   "execution_count": null,
   "metadata": {
    "azdata_cell_guid": "5b581e8d-e614-4f3d-81eb-4e63574803b5",
    "language": "python"
   },
   "outputs": [],
   "source": [
    "# Aggregate geomatric feature (group by region)\n",
    "gplot5diss = gplot5.dissolve(by='Region',aggfunc='mean')"
   ]
  },
  {
   "cell_type": "code",
   "execution_count": null,
   "metadata": {
    "azdata_cell_guid": "70e82594-917c-4f39-bf63-f52c095990f6",
    "language": "python"
   },
   "outputs": [],
   "source": [
    "import math\n",
    "fig = plt.figure(1, figsize=(25,15)) \n",
    "ax = fig.add_subplot()\n",
    "ax.set_title('The number of orders by Region',size=30,weight='bold')\n",
    "gplot5diss.apply(lambda x: ax.annotate(text= str(math.floor(x.Row_ID))\n",
    "                                       ,xy=x.geometry.centroid.coords[0], \n",
    "                                        ha='center', fontsize=25),axis=1)\n",
    "gplot5diss.boundary.plot(ax=ax, color='Black', linewidth=.4)\n",
    "gplot5diss.plot(ax=ax, column='Row_ID',cmap='Pastel2')\n",
    "\n",
    "plt.show()"
   ]
  },
  {
   "cell_type": "code",
   "execution_count": null,
   "metadata": {
    "azdata_cell_guid": "0a610ec0-97c6-459f-9fdd-ffb81242886e",
    "language": "python",
    "scrolled": true
   },
   "outputs": [],
   "source": [
    "profbyreg = storedf.groupby('Region')['Profit'].mean().reset_index()\n",
    "profbyreg"
   ]
  },
  {
   "cell_type": "code",
   "execution_count": null,
   "metadata": {
    "azdata_cell_guid": "f7bce098-baf7-4d0a-bc57-5a01a8577307",
    "language": "python"
   },
   "outputs": [],
   "source": [
    "plot5extra = pd.merge(left=StateswRegion, right=profbyreg,\n",
    "                        left_on='Region',right_on='Region',\n",
    "                        how='left')"
   ]
  },
  {
   "cell_type": "code",
   "execution_count": null,
   "metadata": {
    "azdata_cell_guid": "d7cfcf35-1329-4f57-8e33-6d6439d25ba6",
    "language": "python"
   },
   "outputs": [],
   "source": [
    "gplot5extra = gpd.GeoDataFrame(plot5extra)"
   ]
  },
  {
   "cell_type": "code",
   "execution_count": null,
   "metadata": {
    "azdata_cell_guid": "20639df5-eb42-4a11-88e6-ea275ca59bba",
    "language": "python"
   },
   "outputs": [],
   "source": [
    "gplot5extradiss = gplot5extra.dissolve(by='Region',aggfunc='mean')"
   ]
  },
  {
   "cell_type": "code",
   "execution_count": null,
   "metadata": {
    "azdata_cell_guid": "afcee4c1-38e5-4294-92e7-d65ce7cc0cfe",
    "language": "python"
   },
   "outputs": [],
   "source": [
    "fig = plt.figure(1, figsize=(25,15)) \n",
    "ax = fig.add_subplot()\n",
    "ax.set_title('Profit by Region',size=30,weight='bold')\n",
    "gplot5extradiss.apply(lambda x: ax.annotate(text= str(round(x.Profit,2))\n",
    "                                       ,xy=x.geometry.centroid.coords[0], \n",
    "                                        ha='center', fontsize=20),axis=1)\n",
    "gplot5extradiss.boundary.plot(ax=ax, color='Black', linewidth=.4)\n",
    "gplot5extradiss.plot(ax=ax, column='Profit',legend=True,cmap='coolwarm'\n",
    "                ,legend_kwds={'shrink':0.5})\n",
    "\n",
    "plt.show()"
   ]
  },
  {
   "cell_type": "markdown",
   "metadata": {
    "azdata_cell_guid": "10e8a390-b7b0-4d5e-9648-30ba8c5036c6"
   },
   "source": [
    "## 6. In which month we have best sales ?\n",
    "- Extract month from Order Date\n",
    "- Sum sales of each month"
   ]
  },
  {
   "cell_type": "code",
   "execution_count": null,
   "metadata": {
    "azdata_cell_guid": "d7ffb443-5b0a-4358-b7c2-fc9518880615",
    "language": "python"
   },
   "outputs": [],
   "source": [
    "storedf6 = storedf.copy()\n",
    "storedf6['Order_M'] = pd.DatetimeIndex(storedf6['Order_Date']).month"
   ]
  },
  {
   "cell_type": "code",
   "execution_count": null,
   "metadata": {
    "azdata_cell_guid": "238d1139-347f-4aba-946a-e30782639dd1",
    "language": "python"
   },
   "outputs": [],
   "source": [
    "monthmostsales = storedf6.groupby('Order_M')['Sales'].sum().reset_index()\n",
    "monthmostsales = monthmostsales.sort_values(by='Sales',ascending=False)\n",
    "monthmostsales"
   ]
  },
  {
   "cell_type": "markdown",
   "metadata": {
    "azdata_cell_guid": "a06fef11-d18d-4565-87c5-a42bb1e8fa86"
   },
   "source": [
    "From the table above, 4th month (April) has best sales"
   ]
  },
  {
   "cell_type": "markdown",
   "metadata": {
    "azdata_cell_guid": "7b0834c3-12ac-4478-bf6d-9ae1d2da03f8"
   },
   "source": [
    "## 7. In which month we have least sales ?\n",
    "- Extract month from Order Date\n",
    "- Sum sales of each month"
   ]
  },
  {
   "cell_type": "markdown",
   "metadata": {
    "azdata_cell_guid": "cbc3f0be-8137-4cf1-bb40-bdd8bb4648b6"
   },
   "source": [
    "From the table above, 3rd month (March) has least sales"
   ]
  },
  {
   "cell_type": "markdown",
   "metadata": {
    "azdata_cell_guid": "4f322ab7-2a45-402c-9414-93ac42b3db9d"
   },
   "source": [
    "## 8. What is the number of orders depends on it's priority and it's profit ?\n",
    "-  งงโจทย์"
   ]
  },
  {
   "cell_type": "code",
   "execution_count": null,
   "metadata": {
    "azdata_cell_guid": "3ab81a61-d463-4362-8017-8b6759b8c837",
    "language": "python"
   },
   "outputs": [],
   "source": []
  },
  {
   "cell_type": "code",
   "execution_count": null,
   "metadata": {
    "azdata_cell_guid": "8dca50ae-4a17-4b76-bb88-34829b5b5f31",
    "language": "python"
   },
   "outputs": [],
   "source": []
  },
  {
   "cell_type": "markdown",
   "metadata": {
    "azdata_cell_guid": "480991f8-a5fb-4b37-8435-b2202a0dae8f"
   },
   "source": [
    "## 9. Which state has most profit ?\n",
    "- Sum profit of each state\n",
    "- Plot a bar graph between total profit and state"
   ]
  },
  {
   "cell_type": "code",
   "execution_count": null,
   "metadata": {
    "azdata_cell_guid": "82be4166-b67b-4cab-a373-5703aa5e664e",
    "language": "python"
   },
   "outputs": [],
   "source": [
    "# Top 5 states have most profit\n",
    "mostprof = storedf.groupby('State_or_Province',sort=True)['Profit'].sum().nlargest(5).reset_index()\n",
    "mostprof"
   ]
  },
  {
   "cell_type": "code",
   "execution_count": null,
   "metadata": {
    "azdata_cell_guid": "fc6b58b6-6cf2-4b2d-ac5d-9846b0435688",
    "language": "python"
   },
   "outputs": [],
   "source": [
    "state = mostprof.State_or_Province\n",
    "sums = mostprof.Profit \n",
    "\n",
    "fig = plt.figure(figsize = (10,5))\n",
    "\n",
    "plt.bar(state, sums, color='green',width = 0.4)\n",
    "plt.xlabel(\"State\")\n",
    "plt.ylabel(\"Total Profit\")\n",
    "plt.title(\"Top 5 states that have most profit\")\n",
    "plt.show()"
   ]
  },
  {
   "cell_type": "markdown",
   "metadata": {
    "azdata_cell_guid": "7014e9a1-996d-4c8a-86e0-2fc23fddb78b"
   },
   "source": [
    "From the bar chart above, The most profitable state is California"
   ]
  },
  {
   "cell_type": "code",
   "execution_count": null,
   "metadata": {
    "azdata_cell_guid": "eee10048-73f8-4788-8f85-d2bf13d474f8",
    "language": "python"
   },
   "outputs": [],
   "source": [
    "# Plot state \n",
    "stateprof = storedf.groupby('State_or_Province',sort=True)['Profit'].sum().reset_index()\n",
    "plot9extra = pd.merge(left=stateprof,right=states,\n",
    "                      left_on='State_or_Province',\n",
    "                      right_on='NAME',how='left') "
   ]
  },
  {
   "cell_type": "code",
   "execution_count": null,
   "metadata": {
    "azdata_cell_guid": "9f2638f7-a01a-4d8d-b052-09a1183747bd",
    "language": "python"
   },
   "outputs": [],
   "source": [
    "plot9extra.head()"
   ]
  },
  {
   "cell_type": "code",
   "execution_count": null,
   "metadata": {
    "azdata_cell_guid": "df1e7863-5517-45c6-8474-6bcd4f0cfee3",
    "language": "python"
   },
   "outputs": [],
   "source": [
    "gplot9extra = gpd.GeoDataFrame(plot9extra)"
   ]
  },
  {
   "cell_type": "code",
   "execution_count": null,
   "metadata": {
    "azdata_cell_guid": "a70aed29-61f4-4366-a39c-6fda3276d3b1",
    "language": "python"
   },
   "outputs": [],
   "source": [
    "fig = plt.figure(1, figsize=(25,15)) \n",
    "ax = fig.add_subplot()\n",
    "ax.set_title('U.S. State by Profit',size=25)\n",
    "gplot9extra.apply(lambda x: ax.annotate(text=x.STUSPS, xy=x.geometry.centroid.coords[0], \n",
    "                                        ha='center', fontsize=14),axis=1)\n",
    "gplot9extra.boundary.plot(ax=ax, color='Black', linewidth=.4)\n",
    "gplot9extra.plot(ax=ax, column='Profit',legend=True,cmap='coolwarm'\n",
    "                ,legend_kwds={'shrink':0.5})\n",
    "\n",
    "plt.show()"
   ]
  },
  {
   "cell_type": "markdown",
   "metadata": {
    "azdata_cell_guid": "35962e6f-ff87-4ad3-8f5f-73f55bd4342f"
   },
   "source": [
    "## 10. Which state has least profit ?\n",
    "- Sum profit of each state\n",
    "- Plot a bar graph between total profit and state"
   ]
  },
  {
   "cell_type": "code",
   "execution_count": null,
   "metadata": {
    "azdata_cell_guid": "c38e9e04-04ee-47c7-bd1b-f73549a6e4d6",
    "language": "python"
   },
   "outputs": [],
   "source": [
    "# Top 5 states have most profit\n",
    "leastprof = storedf.groupby('State_or_Province',sort=True)['Profit'].sum().nsmallest(5).reset_index()\n",
    "leastprof"
   ]
  },
  {
   "cell_type": "code",
   "execution_count": null,
   "metadata": {
    "azdata_cell_guid": "3afdd3cf-333b-4330-a3aa-1aa41c106e39",
    "language": "python",
    "scrolled": true
   },
   "outputs": [],
   "source": [
    "state = leastprof.State_or_Province\n",
    "sums = leastprof.Profit \n",
    "\n",
    "fig = plt.figure(figsize = (10,5))\n",
    "\n",
    "plt.bar(state, sums, color='red',width = 0.4)\n",
    "plt.xlabel(\"States\")\n",
    "plt.ylabel(\"Total Profit\")\n",
    "plt.title(\"Top 5 states that have least profit\")\n",
    "plt.show()"
   ]
  },
  {
   "cell_type": "markdown",
   "metadata": {
    "azdata_cell_guid": "38e568e9-cfe9-4fab-aebb-0d3864236afa"
   },
   "source": [
    "From the bar chart above, The least profitable state is North Carolina"
   ]
  },
  {
   "cell_type": "markdown",
   "metadata": {
    "azdata_cell_guid": "509a7e0e-8343-42a4-adfd-3edcf3238c56"
   },
   "source": [
    "## 11. Which city in most profit state has most profit ?\n",
    "- From no.9, the most profitable state = California\n",
    "- Extract rows from storedf with State = California\n",
    "- Plot a bar graph between total profit and city"
   ]
  },
  {
   "cell_type": "code",
   "execution_count": null,
   "metadata": {
    "azdata_cell_guid": "f75381d0-ce13-4f6d-83a5-ae05197b9bdd",
    "language": "python"
   },
   "outputs": [],
   "source": [
    "storedf11 = storedf[storedf['State_or_Province'] == 'California'].reset_index(drop=True)\n",
    "storedf11.head()"
   ]
  },
  {
   "cell_type": "code",
   "execution_count": null,
   "metadata": {
    "azdata_cell_guid": "3b9e18dd-a46c-462d-be08-0a80ac07839b",
    "language": "python"
   },
   "outputs": [],
   "source": [
    "mostprofcity = storedf11.groupby('City',sort=True)['Profit'].sum().nlargest(5).reset_index()\n",
    "mostprofcity"
   ]
  },
  {
   "cell_type": "code",
   "execution_count": null,
   "metadata": {
    "azdata_cell_guid": "f27c5ca2-a29e-4406-aee4-d11a08f4bbfa",
    "language": "python"
   },
   "outputs": [],
   "source": [
    "city = mostprofcity.City\n",
    "sums = mostprof.Profit \n",
    "\n",
    "fig = plt.figure(figsize = (10,5))\n",
    "\n",
    "plt.bar(city, sums, color='green',width = 0.4)\n",
    "plt.xlabel(\"City\")\n",
    "plt.ylabel(\"Total Profit\")\n",
    "plt.title(\"Top 5 cities in California that have most profit\")\n",
    "plt.show()"
   ]
  },
  {
   "cell_type": "markdown",
   "metadata": {
    "azdata_cell_guid": "681f6d43-0ee6-450a-9e21-91dd3ab9ecaf"
   },
   "source": [
    "From the bar chart above, The most profitable city in California is Los Angles"
   ]
  },
  {
   "cell_type": "markdown",
   "metadata": {
    "azdata_cell_guid": "8741f32a-5403-43a1-80ec-5d02523f0c8b"
   },
   "source": [
    "## 12. Which city in least profit state has least profit ?\n",
    "- From no.10, the least profitable state = North Carolina\n",
    "- Extract rows from storedf with State = North Carolina\n",
    "- Plot a bar graph between total profit and city"
   ]
  },
  {
   "cell_type": "code",
   "execution_count": null,
   "metadata": {
    "azdata_cell_guid": "d74d67ea-1e1e-4f07-8772-725004334429",
    "language": "python"
   },
   "outputs": [],
   "source": [
    "storedf12 = storedf[storedf['State_or_Province'] == 'North Carolina'].reset_index(drop=True)\n",
    "storedf12.head()"
   ]
  },
  {
   "cell_type": "code",
   "execution_count": null,
   "metadata": {
    "azdata_cell_guid": "ff0d9172-3f46-4a01-82ea-2ecada61444c",
    "language": "python"
   },
   "outputs": [],
   "source": [
    "leastprofcity = storedf12.groupby('City',sort=True)['Profit'].sum().nsmallest(5).reset_index()\n",
    "leastprofcity"
   ]
  },
  {
   "cell_type": "code",
   "execution_count": null,
   "metadata": {
    "azdata_cell_guid": "eca042ab-dd36-44b4-b6a2-143918209a54",
    "language": "python"
   },
   "outputs": [],
   "source": [
    "city = leastprofcity.City\n",
    "sums = leastprof.Profit \n",
    "\n",
    "fig = plt.figure(figsize = (10,5))\n",
    "\n",
    "plt.bar(city, sums, color='red',width = 0.4)\n",
    "plt.xlabel(\"City\")\n",
    "plt.ylabel(\"Total Profit\")\n",
    "plt.title(\"Top 5 cities in North Carolina that have least profit\")\n",
    "plt.show()"
   ]
  },
  {
   "cell_type": "markdown",
   "metadata": {
    "azdata_cell_guid": "3870d3c2-a6d5-4da9-aee3-fadafc4f76f1"
   },
   "source": [
    "From the bar chart above, The least profitable city in North Carolina is Gastonia"
   ]
  },
  {
   "cell_type": "code",
   "execution_count": null,
   "metadata": {
    "azdata_cell_guid": "5d5aefb0-1d05-4efd-90d8-4440f242a3ab",
    "language": "python"
   },
   "outputs": [],
   "source": []
  }
 ],
 "metadata": {
  "kernelspec": {
   "display_name": "Python 3 (ipykernel)",
   "language": "python",
   "name": "python3"
  },
  "language_info": {
   "codemirror_mode": {
    "name": "ipython",
    "version": 3
   },
   "file_extension": ".py",
   "mimetype": "text/x-python",
   "name": "python",
   "nbconvert_exporter": "python",
   "pygments_lexer": "ipython3",
   "version": "3.9.13"
  }
 },
 "nbformat": 4,
 "nbformat_minor": 2
}
